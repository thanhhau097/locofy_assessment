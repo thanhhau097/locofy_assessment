{
 "cells": [
  {
   "cell_type": "code",
   "execution_count": null,
   "metadata": {},
   "outputs": [],
   "source": [
    "import os\n",
    "import json\n",
    "from PIL import Image\n",
    "import random\n",
    "import gzip\n",
    "import shutil\n",
    "from tqdm import tqdm\n"
   ]
  },
  {
   "cell_type": "code",
   "execution_count": null,
   "metadata": {},
   "outputs": [],
   "source": [
    "# from huggingface_hub import snapshot_download\n",
    "# snapshot_download(repo_id=\"biglab/webui-val\", repo_type=\"dataset\", local_dir=\"./data/webui-val\", local_dir_use_symlinks=False)\n"
   ]
  },
  {
   "cell_type": "code",
   "execution_count": null,
   "metadata": {},
   "outputs": [],
   "source": [
    "DATA_FOLDER = \"/Users/thanh/Desktop/experiments/locofy/assessment_2/data/webui-val/val_split_webui\"\n",
    "\n",
    "ids = os.listdir(DATA_FOLDER)\n",
    "\n",
    "# unzip recursively all .gz files in each id folder\n",
    "for id in tqdm(sorted(ids)):\n",
    "    id_path = os.path.join(DATA_FOLDER, id)\n",
    "    if not os.path.isdir(id_path):\n",
    "        continue\n",
    "    gz_files = [f for f in os.listdir(id_path) if f.endswith(\".gz\")]\n",
    "    for gz_file in gz_files:\n",
    "        gz_file_path = os.path.join(id_path, gz_file)\n",
    "\n",
    "        if not os.path.isfile(gz_file_path[:-3]):\n",
    "            with gzip.open(gz_file_path, 'rb') as f_in:\n",
    "                with open(gz_file_path[:-3], 'wb') as f_out:\n",
    "                    shutil.copyfileobj(f_in, f_out)\n",
    "\n",
    "        if os.path.exists(gz_file_path):            \n",
    "            os.remove(gz_file_path)\n",
    "        "
   ]
  },
  {
   "cell_type": "code",
   "execution_count": null,
   "metadata": {},
   "outputs": [],
   "source": [
    "id = random.choice(ids)"
   ]
  },
  {
   "cell_type": "code",
   "execution_count": null,
   "metadata": {},
   "outputs": [],
   "source": [
    "image_path = os.path.join(DATA_FOLDER, \"{}/default_1280-720-screenshot.webp\".format(id))\n",
    "Image.open(image_path)"
   ]
  },
  {
   "cell_type": "code",
   "execution_count": null,
   "metadata": {},
   "outputs": [],
   "source": [
    "name = \"/Users/thanh/Desktop/experiments/locofy/assessment_2/data/webui-val/val_split_webui/{}/default_1280-720-{}.json\"\n",
    "axtree = json.load(open(name.format(id, \"axtree\"), \"r\"))\n",
    "bb = json.load(open(name.format(id, \"bb\"), \"r\"))\n",
    "box = json.load(open(name.format(id, \"box\"), \"r\"))\n",
    "style = json.load(open(name.format(id, \"style\"), \"r\"))\n",
    "viewport = json.load(open(name.format(id, \"viewport\"), \"r\"))"
   ]
  },
  {
   "cell_type": "code",
   "execution_count": null,
   "metadata": {},
   "outputs": [],
   "source": [
    "kept_backend_dom_node_ids = [k for k, v in viewport.items() if v]\n",
    "len(kept_backend_dom_node_ids)"
   ]
  },
  {
   "cell_type": "code",
   "execution_count": null,
   "metadata": {},
   "outputs": [],
   "source": [
    "import numpy as np\n",
    "import cv2\n",
    "\n",
    "np_image = np.array(Image.open(image_path))\n",
    "\n",
    "boxes = []\n",
    "for dom_id in kept_backend_dom_node_ids:\n",
    "    xs = [int(d[\"x\"]) for d in box[dom_id][\"content\"]]\n",
    "    ys = [int(d[\"y\"]) for d in box[dom_id][\"content\"]]\n",
    "\n",
    "    x1, x2 = min(xs), max(xs)\n",
    "    y1, y2 = min(ys), max(ys)\n",
    "\n",
    "    # visualize bbox on image\n",
    "\n",
    "    cv2.rectangle(np_image, (x1, y1), (x2, y2), (0, 255, 0), 2)\n",
    "    boxes.append([x1, y1, x2, y2])\n",
    "\n",
    "Image.fromarray(np_image)"
   ]
  },
  {
   "cell_type": "code",
   "execution_count": null,
   "metadata": {},
   "outputs": [],
   "source": [
    "# now we need to build a graph that contains only kept_backend_dom_node_ids\n",
    "# first we need to build the whole graph of node_ids, then we truncate it to make smaller graph which contains only kept_backend_dom_node_ids\n",
    "\n",
    "# make sure that all backend dom node ids are in the axtree\n",
    "assert len(set([str(node.get(\"backendDOMNodeId\")) for node in axtree[\"nodes\"] if node.get(\"backendDOMNodeId\") is not None]).intersection(set(kept_backend_dom_node_ids))) == len(kept_backend_dom_node_ids)\n",
    "\n",
    "# build the whole graph with all nodes\n",
    "import networkx as nx\n",
    "graph = nx.DiGraph()\n",
    "for node in axtree[\"nodes\"]:\n",
    "    graph.add_node(\n",
    "        str(node[\"nodeId\"]),\n",
    "        backendDOMNodeId=str(node.get(\"backendDOMNodeId\", \"\")),\n",
    "        parentId=str(node.get(\"parentId\", \"\")),\n",
    "        childIds=str(node.get(\"childIds\", [])),\n",
    "    )\n",
    "    \n",
    "    # we have childen in childIds and parent in parentId\n",
    "    for child_id in node[\"childIds\"]:\n",
    "        graph.add_edge(str(node[\"nodeId\"]), str(child_id))\n",
    "\n",
    "# truncate the graph to make smaller graph which contains only kept_backend_dom_node_ids, when we truncate a node, we have to connect parent and children of that node\n",
    "root_node_id = [node[\"nodeId\"] for node in axtree[\"nodes\"] if node.get(\"parentId\") is None][0]\n",
    "\n",
    "kept_backend_dom_node_ids = set(kept_backend_dom_node_ids)\n",
    "removing_nodes = []\n",
    "new_edges = []\n",
    "for node_id in graph.nodes():\n",
    "    if node_id == root_node_id:\n",
    "        continue\n",
    "    if graph.nodes[node_id][\"backendDOMNodeId\"] not in kept_backend_dom_node_ids:\n",
    "        removing_nodes.append(node_id)\n",
    "        \n",
    "        # connect parent and children of that node\n",
    "        parent_id = graph.nodes[node_id][\"parentId\"]\n",
    "        if parent_id:\n",
    "            child_ids = graph.nodes[node_id][\"childIds\"]\n",
    "            for child_id in child_ids:\n",
    "                new_edges.append((parent_id, child_id))\n",
    "\n",
    "graph.remove_nodes_from(removing_nodes)\n",
    "graph.remove_node(root_node_id)"
   ]
  },
  {
   "cell_type": "code",
   "execution_count": null,
   "metadata": {},
   "outputs": [],
   "source": [
    "import matplotlib.pyplot as plt\n",
    "import networkx as nx\n",
    "import pydot\n",
    "from networkx.drawing.nx_pydot import graphviz_layout\n",
    "\n",
    "pos = graphviz_layout(graph, prog=\"dot\")\n",
    "fig = plt.figure(1, figsize=(10, 10), dpi=60)\n",
    "nx.draw(graph, pos, with_labels=True, font_weight='bold')\n",
    "\n",
    "# increase size of figure\n",
    "plt.show()\n"
   ]
  },
  {
   "cell_type": "code",
   "execution_count": null,
   "metadata": {},
   "outputs": [],
   "source": [
    "# dom_id = graph.nodes[\"7457\"][\"backendDOMNodeId\"]\n",
    "# box[dom_id][\"content\"]"
   ]
  },
  {
   "cell_type": "code",
   "execution_count": null,
   "metadata": {},
   "outputs": [],
   "source": [
    "# now convert current graph to backend dom tree\n",
    "node_id_to_dom_id = {}\n",
    "for node_id in graph.nodes():\n",
    "    dom_id = graph.nodes[node_id][\"backendDOMNodeId\"]\n",
    "    node_id_to_dom_id[node_id] = dom_id\n",
    "    \n",
    "\n",
    "# create new graph of backend dom tree\n",
    "backend_dom_tree = nx.DiGraph()\n",
    "for node_id in graph.nodes():\n",
    "    backend_dom_tree.add_node(\n",
    "        node_id_to_dom_id[node_id],\n",
    "    )\n",
    "\n",
    "for edge in graph.edges():\n",
    "    backend_dom_tree.add_edge(\n",
    "        node_id_to_dom_id[edge[0]],\n",
    "        node_id_to_dom_id[edge[1]],\n",
    "    )\n",
    "    \n",
    "pos = graphviz_layout(backend_dom_tree, prog=\"dot\")\n",
    "fig = plt.figure(1, figsize=(10, 10), dpi=60)\n",
    "nx.draw(backend_dom_tree, pos, with_labels=True, font_weight='bold')\n",
    "\n",
    "# increase size of figure\n",
    "plt.show()"
   ]
  },
  {
   "cell_type": "code",
   "execution_count": null,
   "metadata": {},
   "outputs": [],
   "source": [
    "# let's store necceary information for each node: box, is absolute, z-index, etc.\n",
    "# we can add more information later, but these are only information listed in the assessment\n",
    "\n",
    "# node features: box, is absolute, z-index\n",
    "# edges\n",
    "np_image = np.array(Image.open(image_path))\n",
    "\n",
    "nodes = []  # list of dictionary\n",
    "for dom_id in backend_dom_tree.nodes():\n",
    "    xs = [int(d[\"x\"]) for d in box[dom_id][\"content\"]]\n",
    "    ys = [int(d[\"y\"]) for d in box[dom_id][\"content\"]]\n",
    "\n",
    "    x1, x2 = min(xs), max(xs)\n",
    "    y1, y2 = min(ys), max(ys)\n",
    "    \n",
    "    is_absolute = style[dom_id][\"position\"] == \"absolute\"\n",
    "\n",
    "    nodes.append({\n",
    "        \"id\": dom_id,\n",
    "        \"box\": [x1, y1, x2, y2],\n",
    "        \"is_absolute\": is_absolute,\n",
    "    })\n",
    "    \n",
    "    if is_absolute:\n",
    "        cv2.rectangle(np_image, (x1, y1), (x2, y2), (255, 0, 0), 2)\n",
    "\n",
    "edges = list(backend_dom_tree.edges())\n",
    "Image.fromarray(np_image)"
   ]
  },
  {
   "cell_type": "code",
   "execution_count": null,
   "metadata": {},
   "outputs": [],
   "source": []
  },
  {
   "cell_type": "code",
   "execution_count": null,
   "metadata": {},
   "outputs": [],
   "source": []
  }
 ],
 "metadata": {
  "kernelspec": {
   "display_name": "env38",
   "language": "python",
   "name": "python3"
  },
  "language_info": {
   "codemirror_mode": {
    "name": "ipython",
    "version": 3
   },
   "file_extension": ".py",
   "mimetype": "text/x-python",
   "name": "python",
   "nbconvert_exporter": "python",
   "pygments_lexer": "ipython3",
   "version": "3.8.12"
  }
 },
 "nbformat": 4,
 "nbformat_minor": 2
}
